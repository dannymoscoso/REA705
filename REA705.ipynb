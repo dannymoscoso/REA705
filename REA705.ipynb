{
 "cells": [
  {
   "cell_type": "code",
   "execution_count": 1,
   "metadata": {},
   "outputs": [],
   "source": [
    "import glob\n",
    "import requests\n",
    "import os\n",
    "from collections import Counter\n",
    "\n",
    "def getmalwaretypes(hashy):\n",
    "    params = {'apikey': 'xxxxxxxxxxxxxxxxxxxxxxxxxxxxxxxxxxxxxxxxxxxxxxxxxxxx','resource': hashy}\n",
    "    headers = {\"Accept-Encoding\": \"gzip, deflate\", \"User-Agent\" : \"Python User Agent\"\n",
    "  }\n",
    "    response = requests.get('https://www.virustotal.com/vtapi/v2/file/report', params=params, headers=headers)\n",
    "    json_response = response.json()\n",
    "\n",
    "    #take all scanners and place into list\n",
    "    scanners=[]\n",
    "    for x in json_response['scans']:\n",
    "        scanners.append(x)\n",
    "    \n",
    "    #what did each scanner report and place to list\n",
    "    suggestedmalware=[]\n",
    "    for x in scanners:\n",
    "        suggestedmalware.append(json_response['scans'][x]['result'])\n",
    "\n",
    "    #eliminate NaNs\n",
    "    malwaretypes = [i for i in suggestedmalware if i is not None]\n",
    "    return malwaretypes"
   ]
  },
  {
   "cell_type": "code",
   "execution_count": null,
   "metadata": {},
   "outputs": [],
   "source": []
  },
  {
   "cell_type": "code",
   "execution_count": 2,
   "metadata": {},
   "outputs": [],
   "source": [
    "#ls *foldername with malware*\n",
    "execute = os.popen('ls bigpack')\n",
    "files = execute.read()\n",
    "#take all file names and make a list \n",
    "files = files.split('\\n')\n",
    "#eliminate first list element\n",
    "files = files[:-1]"
   ]
  },
  {
   "cell_type": "code",
   "execution_count": null,
   "metadata": {},
   "outputs": [],
   "source": [
    "#make a counter\n",
    "counter=0\n",
    "\n",
    "#iterate through each file\n",
    "for filename in files:\n",
    "    #take hash of witihin filename\n",
    "    hashy = filename.split('_')[1]\n",
    "    #get malware types\n",
    "    malwaretype = getmalwaretypes(hashy)\n",
    "    #most reported scan = what the malware is \n",
    "    probably = Counter(malwaretype).most_common(1)[0][0]\n",
    "    #make directory of reported malware\n",
    "    execute = os.popen('mkdir ' + probably)\n",
    "    #move it into newlyy made folder\n",
    "    execute = os.popen('mv bigpack/' + filename + ' ' + probably)\n",
    "    execute.read()\n",
    "    counter=counter+1\n",
    "    print(filename.split('_'), probably, counter)"
   ]
  },
  {
   "cell_type": "code",
   "execution_count": null,
   "metadata": {},
   "outputs": [],
   "source": []
  }
 ],
 "metadata": {
  "kernelspec": {
   "display_name": "Python 3",
   "language": "python",
   "name": "python3"
  },
  "language_info": {
   "codemirror_mode": {
    "name": "ipython",
    "version": 3
   },
   "file_extension": ".py",
   "mimetype": "text/x-python",
   "name": "python",
   "nbconvert_exporter": "python",
   "pygments_lexer": "ipython3",
   "version": "3.6.7"
  }
 },
 "nbformat": 4,
 "nbformat_minor": 2
}
